{
 "cells": [
  {
   "cell_type": "markdown",
   "metadata": {
    "id": "SimSplyqrS9H"
   },
   "source": [
    "# LeNet 5\n",
    "\n",
    "Author: Franco Hernández Victor Alfonso\n",
    "\n",
    "<a href=\"https://colab.research.google.com/github/VictorFranco/fastapi-lenet-mnist/blob/main/LeNet5.ipynb\" target=\"_parent\"><img src=\"https://colab.research.google.com/assets/colab-badge.svg\" alt=\"Open In Colab\"/></a>"
   ]
  },
  {
   "cell_type": "code",
   "execution_count": null,
   "metadata": {
    "id": "A2s2lNdIV8be"
   },
   "outputs": [],
   "source": [
    "import torch\n",
    "from torchvision import datasets, transforms\n",
    "import matplotlib.pyplot as plt\n",
    "from torch import nn\n",
    "\n",
    "transform_train = transforms.Compose([\n",
    "    transforms.Resize(32),\n",
    "    transforms.ToTensor(),\n",
    "    transforms.Normalize([0],[1])\n",
    "])\n",
    "\n",
    "trainset = datasets.MNIST(\n",
    "    \"MNIST_data\",\n",
    "    train = True,\n",
    "    transform = transform_train,\n",
    "    download = True\n",
    ")\n",
    "\n",
    "testset = datasets.MNIST(\n",
    "    \"MNIST_data\",\n",
    "    transform = transform_train,\n",
    "    download = True\n",
    ")"
   ]
  },
  {
   "cell_type": "code",
   "execution_count": null,
   "metadata": {
    "colab": {
     "base_uri": "https://localhost:8080/",
     "height": 638
    },
    "id": "387HfrVEWxgm",
    "outputId": "866fdd62-ad7d-4841-9a47-3d3316a0f076"
   },
   "outputs": [
    {
     "name": "stdout",
     "output_type": "stream",
     "text": [
      "Dataset MNIST\n",
      "    Number of datapoints: 60000\n",
      "    Root location: MNIST_data\n",
      "    Split: Train\n",
      "    StandardTransform\n",
      "Transform: Compose(\n",
      "               Resize(size=32, interpolation=bilinear, max_size=None, antialias=warn)\n",
      "               ToTensor()\n",
      "               Normalize(mean=[0], std=[1])\n",
      "           )\n",
      "torch.Size([1, 32, 32])\n"
     ]
    },
    {
     "data": {
      "text/plain": [
       "<matplotlib.image.AxesImage at 0x7a312f9af280>"
      ]
     },
     "execution_count": 96,
     "metadata": {},
     "output_type": "execute_result"
    },
    {
     "data": {
      "image/png": "[encoded data removed]",
      "text/plain": [
       "<Figure size 640x480 with 1 Axes>"
      ]
     },
     "metadata": {},
     "output_type": "display_data"
    }
   ],
   "source": [
    "print(trainset)\n",
    "# print(trainset[5])\n",
    "print(trainset[5][0].shape)\n",
    "plt.imshow(trainset[5][0].permute(1,2,0),cmap='gray')"
   ]
  },
  {
   "cell_type": "code",
   "execution_count": null,
   "metadata": {
    "id": "1zxTvb9H59fK"
   },
   "outputs": [],
   "source": [
    "trainloader = torch.utils.data.DataLoader(trainset, batch_size=64)\n",
    "testloader = torch.utils.data.DataLoader(testset, batch_size=64)\n",
    "# next(iter(trainloader))"
   ]
  },
  {
   "cell_type": "code",
   "execution_count": null,
   "metadata": {
    "id": "0BPO5Yps7fJb"
   },
   "outputs": [],
   "source": [
    "class Model(nn.Module):\n",
    "  def __init__(self):\n",
    "    super().__init__()\n",
    "    self.cnn = nn.Sequential(\n",
    "        nn.Conv2d(1,6,5),\n",
    "        nn.Tanh(),\n",
    "        nn.MaxPool2d(2, stride=2),\n",
    "        nn.Conv2d(6,16,5),\n",
    "        nn.Tanh(),\n",
    "        nn.MaxPool2d(2, stride=2)\n",
    "    )\n",
    "    self.fc = nn.Sequential(\n",
    "        nn.Linear(16*5*5,120),\n",
    "        nn.Tanh(),\n",
    "        nn.Linear(120,84),\n",
    "        nn.Tanh(),\n",
    "        nn.Linear(84,10),\n",
    "        nn.Softmax(dim=1)\n",
    "    )\n",
    "  def forward(self, x):\n",
    "    x = self.cnn(x)\n",
    "    x = x.view(x.size(0), -1)\n",
    "    x = self.fc(x)\n",
    "    return x\n",
    "\n",
    "device = \"cuda\" if torch.cuda.is_available() else \"cpu\"\n",
    "torch.manual_seed(40)\n",
    "model = Model().to(device)\n",
    "criterion = nn.CrossEntropyLoss()\n",
    "optimizer = torch.optim.SGD(model.parameters(), lr=0.05)"
   ]
  },
  {
   "cell_type": "code",
   "execution_count": null,
   "metadata": {
    "id": "K_pggHkEjAjp"
   },
   "outputs": [],
   "source": [
    "def validation(model):\n",
    "  model.eval()\n",
    "  correct_predictions = 0\n",
    "  for images, labels in testloader:\n",
    "    outputs = model(images.to(device))\n",
    "    predictions = torch.argmax(outputs, dim=1)\n",
    "    bool_predictions = torch.eq(labels.to(device),predictions)\n",
    "    correct_predictions += bool_predictions.sum()\n",
    "  return correct_predictions / 60000 * 100\n",
    "# print(validation(model))"
   ]
  },
  {
   "cell_type": "code",
   "execution_count": null,
   "metadata": {
    "colab": {
     "base_uri": "https://localhost:8080/"
    },
    "id": "vXav4K23TVr1",
    "outputId": "1ce2fcd3-38bb-4ef1-c71b-4e64cd72b63f"
   },
   "outputs": [
    {
     "name": "stdout",
     "output_type": "stream",
     "text": [
      "epoch:1/3 loss:2.302 acc:9.822%\n",
      "epoch:1/3 loss:2.302 acc:11.843%\n",
      "epoch:1/3 loss:2.301 acc:13.322%\n",
      "epoch:1/3 loss:2.300 acc:16.875%\n",
      "epoch:1/3 loss:2.298 acc:27.368%\n",
      "epoch:1/3 loss:2.296 acc:33.048%\n",
      "epoch:1/3 loss:2.289 acc:27.458%\n",
      "epoch:1/3 loss:2.269 acc:22.547%\n",
      "epoch:1/3 loss:2.208 acc:24.685%\n",
      "epoch:2/3 loss:2.148 acc:34.620%\n",
      "epoch:2/3 loss:2.101 acc:41.583%\n",
      "epoch:2/3 loss:2.047 acc:47.618%\n",
      "epoch:2/3 loss:1.979 acc:57.512%\n",
      "epoch:2/3 loss:1.916 acc:66.170%\n",
      "epoch:2/3 loss:1.843 acc:71.573%\n",
      "epoch:2/3 loss:1.788 acc:73.997%\n",
      "epoch:2/3 loss:1.749 acc:76.788%\n",
      "epoch:2/3 loss:1.712 acc:79.882%\n",
      "epoch:3/3 loss:1.674 acc:85.945%\n",
      "epoch:3/3 loss:1.651 acc:88.988%\n",
      "epoch:3/3 loss:1.628 acc:89.823%\n",
      "epoch:3/3 loss:1.602 acc:90.515%\n",
      "epoch:3/3 loss:1.600 acc:90.957%\n",
      "epoch:3/3 loss:1.584 acc:91.558%\n",
      "epoch:3/3 loss:1.576 acc:92.157%\n",
      "epoch:3/3 loss:1.573 acc:92.512%\n",
      "epoch:3/3 loss:1.557 acc:92.805%\n"
     ]
    }
   ],
   "source": [
    "print_every = 100\n",
    "for epoch in range(3):\n",
    "  steps = 0\n",
    "  running_loss = 0\n",
    "  for images, labels in trainloader:\n",
    "    model.train()\n",
    "    outputs = model(images.to(device))\n",
    "    optimizer.zero_grad()\n",
    "    loss = criterion(outputs, labels.to(device))\n",
    "    loss.backward()\n",
    "    optimizer.step()\n",
    "    steps += 1\n",
    "    running_loss += loss.item()\n",
    "    if steps % print_every == 0:\n",
    "      model.eval()\n",
    "      with torch.inference_mode():\n",
    "        accuracy = validation(model)\n",
    "        print(\"epoch:{}/{} loss:{:.3f} acc:{:.3f}%\".format(epoch+1,3,running_loss/print_every,accuracy))\n",
    "        running_loss = 0"
   ]
  },
  {
   "cell_type": "code",
   "execution_count": null,
   "metadata": {
    "id": "anb-ILewy-eG"
   },
   "outputs": [],
   "source": [
    "torch.save(model, \"cnn.pth\")"
   ]
  },
  {
   "cell_type": "code",
   "execution_count": null,
   "metadata": {
    "colab": {
     "base_uri": "https://localhost:8080/"
    },
    "id": "nQGMM8wmzLzO",
    "outputId": "99541eb2-8d5e-446a-d9a2-ca3be68e11e2"
   },
   "outputs": [
    {
     "name": "stdout",
     "output_type": "stream",
     "text": [
      "Requirement already satisfied: onnx in /usr/local/lib/python3.10/dist-packages (1.15.0)\n",
      "Requirement already satisfied: numpy in /usr/local/lib/python3.10/dist-packages (from onnx) (1.23.5)\n",
      "Requirement already satisfied: protobuf>=3.20.2 in /usr/local/lib/python3.10/dist-packages (from onnx) (3.20.3)\n"
     ]
    }
   ],
   "source": [
    "!pip install onnx"
   ]
  },
  {
   "cell_type": "code",
   "execution_count": null,
   "metadata": {
    "id": "BjLoiWXfzQ3p"
   },
   "outputs": [],
   "source": [
    "import torch\n",
    "model = torch.load(\"cnn.pth\")\n",
    "example = torch.zeros(1,1,32,32).to(device)\n",
    "in_names = [\"in\"]\n",
    "out_names = [\"out\"]\n",
    "torch.onnx.export(model, example, \"cnn.onnx\", input_names=in_names, output_names=out_names, verbose=True)"
   ]
  }
 ],
 "metadata": {
  "accelerator": "GPU",
  "colab": {
   "authorship_tag": "ABX9TyPQSSYkxsOjxRV0eeoblh5E",
   "gpuType": "T4",
   "provenance": []
  },
  "kernelspec": {
   "display_name": "Python 3 (ipykernel)",
   "language": "python",
   "name": "python3"
  },
  "language_info": {
   "codemirror_mode": {
    "name": "ipython",
    "version": 3
   },
   "file_extension": ".py",
   "mimetype": "text/x-python",
   "name": "python",
   "nbconvert_exporter": "python",
   "pygments_lexer": "ipython3",
   "version": "3.11.6"
  }
 },
 "nbformat": 4,
 "nbformat_minor": 4
}
